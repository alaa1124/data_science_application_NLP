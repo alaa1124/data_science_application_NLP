{
  "nbformat": 4,
  "nbformat_minor": 0,
  "metadata": {
    "colab": {
      "provenance": [],
      "authorship_tag": "ABX9TyPLV/mi0GLlrNdg9oOya625",
      "include_colab_link": true
    },
    "kernelspec": {
      "name": "python3",
      "display_name": "Python 3"
    },
    "language_info": {
      "name": "python"
    }
  },
  "cells": [
    {
      "cell_type": "markdown",
      "metadata": {
        "id": "view-in-github",
        "colab_type": "text"
      },
      "source": [
        "<a href=\"https://colab.research.google.com/github/alaa1124/Data-Analysis-with-Python-and-SAS-viya-and-powerbi/blob/main/Copy_of_ASSIGNMENT_1_.ipynb\" target=\"_parent\"><img src=\"https://colab.research.google.com/assets/colab-badge.svg\" alt=\"Open In Colab\"/></a>"
      ]
    },
    {
      "cell_type": "code",
      "execution_count": null,
      "metadata": {
        "id": "8ttGWJe2u9B4"
      },
      "outputs": [],
      "source": [
        "import itertools\n",
        "from typing import List\n",
        "\n",
        "class Solution:\n",
        "    def expressiveWords(self, S: str, words: List[str]) -> int:\n",
        "        def RLE(s):\n",
        "            return zip(*[(k, len(list(grp)))\n",
        "                         for k, grp in itertools.groupby(s)])\n",
        "\n",
        "        ans = 0\n",
        "        rle_s, count_s = RLE(S)\n",
        "        for word in words:\n",
        "            rle_word, count_word = RLE(word)\n",
        "            if rle_word != rle_s:\n",
        "                continue\n",
        "            ans += all(c1 >= max(c2, 3) or c1 == c2\n",
        "                       for c1, c2 in zip(count_s, count_word))\n",
        "        return ans"
      ]
    },
    {
      "cell_type": "code",
      "source": [
        "s = Solution()\n",
        "S = \"hhheeelllooo\"\n",
        "words = [\"hello\", \"hi\", \"helo\"]\n",
        "result = s.expressiveWords(S, words)\n",
        "print(result)"
      ],
      "metadata": {
        "colab": {
          "base_uri": "https://localhost:8080/"
        },
        "id": "jWTiOr5nyK6u",
        "outputId": "bf88b034-c860-4a5f-a366-5209101197d7"
      },
      "execution_count": null,
      "outputs": [
        {
          "output_type": "stream",
          "name": "stdout",
          "text": [
            "2\n"
          ]
        }
      ]
    },
    {
      "cell_type": "code",
      "source": [],
      "metadata": {
        "id": "HpESqikVyOrz"
      },
      "execution_count": null,
      "outputs": []
    }
  ]
}